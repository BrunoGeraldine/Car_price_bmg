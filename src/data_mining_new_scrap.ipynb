{
 "cells": [
  {
   "cell_type": "markdown",
   "id": "1981758f-1503-4bb0-9e74-1d453eef207c",
   "metadata": {},
   "source": [
    "# Import"
   ]
  },
  {
   "cell_type": "code",
   "execution_count": 1,
   "id": "11cd53b7-6c82-41d2-9428-93f55331f6ac",
   "metadata": {},
   "outputs": [],
   "source": [
    "import re\n",
    "import requests\n",
    "import pandas        as pd\n",
    "\n",
    "from bs4             import BeautifulSoup\n",
    "from datetime        import datetime"
   ]
  },
  {
   "cell_type": "markdown",
   "id": "5c303865-4059-4bbe-bb4a-3b382cccedf8",
   "metadata": {},
   "source": [
    "# API building"
   ]
  },
  {
   "cell_type": "code",
   "execution_count": null,
   "id": "5469f130-d6c2-4984-a115-7b4fd9248244",
   "metadata": {},
   "outputs": [],
   "source": [
    "#Link do acesso\n",
    "url = requests.get(\"https://www.autoscout24.com/lst/bmw?atype=C&cy=I&desc=0&fregfrom=2018&fregto=2022&powertype=kw&search_id=2ajkso6erxn&sort=standard&source=detailsearch&ustate=N%2CU\")\n",
    "\n",
    "#Salvando o objeto\n",
    "content = url.content\n",
    "url_final = []\n",
    "\n",
    "#Convertendo para um objeto do tipo BeautifulSoup\n",
    "soup = BeautifulSoup(content, 'html.parser')\n",
    "\n",
    "list_auto = []"
   ]
  },
  {
   "cell_type": "markdown",
   "id": "2b5e6769-de34-4792-9089-90cff2ba1868",
   "metadata": {},
   "source": [
    "# Acess all products"
   ]
  },
  {
   "cell_type": "code",
   "execution_count": 3,
   "id": "4d53b37f-a575-4c4e-b6f3-dd4d6c1fddca",
   "metadata": {},
   "outputs": [
    {
     "name": "stdout",
     "output_type": "stream",
     "text": [
      "['https://www.autoscout24.com/lst/bmw?atype=C&cy=I&desc=0&fregfrom=2018&fregto=2022&page=1&powertype=kw&search_id=2ajkso6erxn&sort=standard&source=listpage_pagination&ustate=N%2CU', 'https://www.autoscout24.com/lst/bmw?atype=C&cy=I&desc=0&fregfrom=2018&fregto=2022&page=2&powertype=kw&search_id=2ajkso6erxn&sort=standard&source=listpage_pagination&ustate=N%2CU', 'https://www.autoscout24.com/lst/bmw?atype=C&cy=I&desc=0&fregfrom=2018&fregto=2022&page=3&powertype=kw&search_id=2ajkso6erxn&sort=standard&source=listpage_pagination&ustate=N%2CU', 'https://www.autoscout24.com/lst/bmw?atype=C&cy=I&desc=0&fregfrom=2018&fregto=2022&page=4&powertype=kw&search_id=2ajkso6erxn&sort=standard&source=listpage_pagination&ustate=N%2CU', 'https://www.autoscout24.com/lst/bmw?atype=C&cy=I&desc=0&fregfrom=2018&fregto=2022&page=5&powertype=kw&search_id=2ajkso6erxn&sort=standard&source=listpage_pagination&ustate=N%2CU', 'https://www.autoscout24.com/lst/bmw?atype=C&cy=I&desc=0&fregfrom=2018&fregto=2022&page=6&powertype=kw&search_id=2ajkso6erxn&sort=standard&source=listpage_pagination&ustate=N%2CU', 'https://www.autoscout24.com/lst/bmw?atype=C&cy=I&desc=0&fregfrom=2018&fregto=2022&page=7&powertype=kw&search_id=2ajkso6erxn&sort=standard&source=listpage_pagination&ustate=N%2CU', 'https://www.autoscout24.com/lst/bmw?atype=C&cy=I&desc=0&fregfrom=2018&fregto=2022&page=8&powertype=kw&search_id=2ajkso6erxn&sort=standard&source=listpage_pagination&ustate=N%2CU', 'https://www.autoscout24.com/lst/bmw?atype=C&cy=I&desc=0&fregfrom=2018&fregto=2022&page=9&powertype=kw&search_id=2ajkso6erxn&sort=standard&source=listpage_pagination&ustate=N%2CU', 'https://www.autoscout24.com/lst/bmw?atype=C&cy=I&desc=0&fregfrom=2018&fregto=2022&page=10&powertype=kw&search_id=2ajkso6erxn&sort=standard&source=listpage_pagination&ustate=N%2CU', 'https://www.autoscout24.com/lst/bmw?atype=C&cy=I&desc=0&fregfrom=2018&fregto=2022&page=11&powertype=kw&search_id=2ajkso6erxn&sort=standard&source=listpage_pagination&ustate=N%2CU', 'https://www.autoscout24.com/lst/bmw?atype=C&cy=I&desc=0&fregfrom=2018&fregto=2022&page=12&powertype=kw&search_id=2ajkso6erxn&sort=standard&source=listpage_pagination&ustate=N%2CU', 'https://www.autoscout24.com/lst/bmw?atype=C&cy=I&desc=0&fregfrom=2018&fregto=2022&page=13&powertype=kw&search_id=2ajkso6erxn&sort=standard&source=listpage_pagination&ustate=N%2CU', 'https://www.autoscout24.com/lst/bmw?atype=C&cy=I&desc=0&fregfrom=2018&fregto=2022&page=14&powertype=kw&search_id=2ajkso6erxn&sort=standard&source=listpage_pagination&ustate=N%2CU', 'https://www.autoscout24.com/lst/bmw?atype=C&cy=I&desc=0&fregfrom=2018&fregto=2022&page=15&powertype=kw&search_id=2ajkso6erxn&sort=standard&source=listpage_pagination&ustate=N%2CU', 'https://www.autoscout24.com/lst/bmw?atype=C&cy=I&desc=0&fregfrom=2018&fregto=2022&page=16&powertype=kw&search_id=2ajkso6erxn&sort=standard&source=listpage_pagination&ustate=N%2CU', 'https://www.autoscout24.com/lst/bmw?atype=C&cy=I&desc=0&fregfrom=2018&fregto=2022&page=17&powertype=kw&search_id=2ajkso6erxn&sort=standard&source=listpage_pagination&ustate=N%2CU', 'https://www.autoscout24.com/lst/bmw?atype=C&cy=I&desc=0&fregfrom=2018&fregto=2022&page=18&powertype=kw&search_id=2ajkso6erxn&sort=standard&source=listpage_pagination&ustate=N%2CU', 'https://www.autoscout24.com/lst/bmw?atype=C&cy=I&desc=0&fregfrom=2018&fregto=2022&page=19&powertype=kw&search_id=2ajkso6erxn&sort=standard&source=listpage_pagination&ustate=N%2CU', 'https://www.autoscout24.com/lst/bmw?atype=C&cy=I&desc=0&fregfrom=2018&fregto=2022&page=20&powertype=kw&search_id=2ajkso6erxn&sort=standard&source=listpage_pagination&ustate=N%2CU']\n"
     ]
    }
   ],
   "source": [
    "def gerar_links_base(prefixo, sufixo, num_iteracoes, final_url):\n",
    "    links = []\n",
    "\n",
    "    for i in range(1, num_iteracoes + 1):\n",
    "        link = f\"{prefixo}{i}{sufixo}{final_url}\"\n",
    "        links.append(link)\n",
    "\n",
    "    return links\n",
    "\n",
    "# construindo o link:\n",
    "prefixo = \"https://www.autoscout24.com/lst/bmw?atype=C&cy=I&desc=0&fregfrom=2018&fregto=2022&page=\"\n",
    "\n",
    "sufixo = \"\"\n",
    "num_iteracoes = 20\n",
    "\n",
    "final_url = \"&powertype=kw&search_id=2ajkso6erxn&sort=standard&source=listpage_pagination&ustate=N%2CU\"\n",
    "\n",
    "links_gerados = gerar_links_base(prefixo, sufixo, num_iteracoes, final_url)\n",
    "print(links_gerados)"
   ]
  },
  {
   "cell_type": "markdown",
   "id": "a53ddb98-db88-4c1e-887f-eb60931fe111",
   "metadata": {},
   "source": [
    "## Building Table Initial\n"
   ]
  },
  {
   "cell_type": "code",
   "execution_count": 4,
   "id": "29e1150c",
   "metadata": {},
   "outputs": [
    {
     "ename": "AttributeError",
     "evalue": "'NoneType' object has no attribute 'find'",
     "output_type": "error",
     "traceback": [
      "\u001b[1;31m---------------------------------------------------------------------------\u001b[0m",
      "\u001b[1;31mAttributeError\u001b[0m                            Traceback (most recent call last)",
      "Cell \u001b[1;32mIn[4], line 21\u001b[0m\n\u001b[0;32m     19\u001b[0m  \u001b[38;5;66;03m#Seller/Location\u001b[39;00m\n\u001b[0;32m     20\u001b[0m seller_detail \u001b[38;5;241m=\u001b[39m soup\u001b[38;5;241m.\u001b[39mfind(\u001b[38;5;124m'\u001b[39m\u001b[38;5;124mdiv\u001b[39m\u001b[38;5;124m'\u001b[39m, attrs\u001b[38;5;241m=\u001b[39m{\u001b[38;5;124m'\u001b[39m\u001b[38;5;124mclass\u001b[39m\u001b[38;5;124m'\u001b[39m:re\u001b[38;5;241m.\u001b[39mcompile(\u001b[38;5;124m'\u001b[39m\u001b[38;5;124mSellerInfo\u001b[39m\u001b[38;5;124m'\u001b[39m)})\n\u001b[1;32m---> 21\u001b[0m seller \u001b[38;5;241m=\u001b[39m \u001b[43mseller_detail\u001b[49m\u001b[38;5;241;43m.\u001b[39;49m\u001b[43mfind\u001b[49m(\u001b[38;5;124m'\u001b[39m\u001b[38;5;124mspan\u001b[39m\u001b[38;5;124m'\u001b[39m, attrs\u001b[38;5;241m=\u001b[39m{\u001b[38;5;124m'\u001b[39m\u001b[38;5;124mclass\u001b[39m\u001b[38;5;124m'\u001b[39m:re\u001b[38;5;241m.\u001b[39mcompile(\u001b[38;5;124m'\u001b[39m\u001b[38;5;124mSellerInfo_name\u001b[39m\u001b[38;5;124m'\u001b[39m)})\u001b[38;5;241m.\u001b[39mget_text()\u001b[38;5;241m.\u001b[39mstrip()\n\u001b[0;32m     22\u001b[0m endereco \u001b[38;5;241m=\u001b[39m seller_detail\u001b[38;5;241m.\u001b[39mfind(\u001b[38;5;124m'\u001b[39m\u001b[38;5;124mspan\u001b[39m\u001b[38;5;124m'\u001b[39m, attrs\u001b[38;5;241m=\u001b[39m{\u001b[38;5;124m'\u001b[39m\u001b[38;5;124mclass\u001b[39m\u001b[38;5;124m'\u001b[39m:re\u001b[38;5;241m.\u001b[39mcompile(\u001b[38;5;124m'\u001b[39m\u001b[38;5;124mSellerInfo_address\u001b[39m\u001b[38;5;124m'\u001b[39m)})\u001b[38;5;241m.\u001b[39mget_text()\u001b[38;5;241m.\u001b[39mstrip()\n\u001b[0;32m     25\u001b[0m \u001b[38;5;28;01mfor\u001b[39;00m ads \u001b[38;5;129;01min\u001b[39;00m add:\n\u001b[0;32m     26\u001b[0m     \u001b[38;5;66;03m#auto = soup.find('a', attrs={'class':re.compile('ListItem_title')}).get_text().strip()\u001b[39;00m\n",
      "\u001b[1;31mAttributeError\u001b[0m: 'NoneType' object has no attribute 'find'"
     ]
    }
   ],
   "source": [
    "# Access the info on the site and building the table\n",
    "list_auto = []\n",
    "for link in links_gerados:\n",
    "    #print(link)\n",
    "    headers = {'User-Agent': 'Mozilla/5.0 (Macintosh; Intel Mac OS X 10_11_5)AppleWebKit/537.36 (KHTML, like Gecko) Chrome/50.0.2661.102 Safari/537.36'}\n",
    "    page = requests.get( link )\n",
    "\n",
    "    #Salvando o objeto\n",
    "    content = page.content\n",
    "    #url_final = []\n",
    "    \n",
    "    #Convertendo para um objeto do tipo BeautifulSoup\n",
    "    soup = BeautifulSoup(content, 'html.parser')\n",
    "\n",
    "    # Beautiful Soup object\n",
    "    soup = BeautifulSoup( page.text, 'html.parser' )\n",
    "\n",
    "    add = soup.find_all('article', re.compile('cldt-summary-full-item'))\n",
    "     #Seller/Location\n",
    "    seller_detail = soup.find('div', attrs={'class':re.compile('SellerInfo')})\n",
    "    seller = seller_detail.find('span', attrs={'class':re.compile('SellerInfo_name')}).get_text().strip()\n",
    "    endereco = seller_detail.find('span', attrs={'class':re.compile('SellerInfo_address')}).get_text().strip()\n",
    "        \n",
    "      \n",
    "    for ads in add:\n",
    "        #auto = soup.find('a', attrs={'class':re.compile('ListItem_title')}).get_text().strip()\n",
    "        id_ads = ads['id']\n",
    "        manufacturer_by = ads['data-make']\n",
    "        model = ads['data-model']\n",
    "        km = ads['data-mileage']\n",
    "        year = ads['data-first-registration']\n",
    "        price = ads['data-price']\n",
    "        version = ads.find('span', attrs={'class': re.compile(\"ListItem_version\")}).getText()\n",
    "        description_car = ads.find('div', attrs={'class': re.compile(\"ListItem_wrapper\")}).getText()\n",
    "        \n",
    "        list_auto.append([id_ads, manufacturer_by, model, version, km, year, price, seller, endereco])\n",
    "        \n",
    "        df = pd.DataFrame(list_auto, columns=['id_ads', 'manufacturer_by', 'model', 'version',\n",
    "                                              'km', 'year', 'price', 'seller',\n",
    "                                              'address']).reset_index(drop=True)\n",
    "        df['scrapy_datetime'] = datetime.now().strftime('%Y-%m-%d')\n",
    "\n",
    "\n",
    "        #new_df = pd.DataFrame(df)\n",
    "        \n",
    "        # Carregue a tabela já existente, se houver\n",
    "        try:\n",
    "            tabela_existente = pd.read_csv('../dataset/list_auto.csv', encoding='utf-8', sep=';')\n",
    "        except FileNotFoundError:\n",
    "            # Se a tabela não existe, crie um DataFrame vazio\n",
    "            tabela_existente = pd.DataFrame()\n",
    "        \n",
    "        # Concatening new DataFrame with exist table\n",
    "        df_new = pd.concat([tabela_existente, df], ignore_index=False)\n",
    "\n",
    "# Save the concatenated table on the new file.\n",
    "df_new.to_csv('../dataset/list_auto.csv', encoding='utf-8', sep=';' ,index=False) \n",
    "        \n",
    "rows = df_new.shape[0]\n",
    "print(rows)\n",
    "\n",
    "\n",
    "# Save the concatenated table on the new file.\n",
    "#df_new.to_csv('../dataset/list_auto.csv', encoding='utf-8', sep=';' ,index=False) "
   ]
  },
  {
   "cell_type": "markdown",
   "id": "07a59e4a-337d-4d94-86c9-d132da51fbb1",
   "metadata": {},
   "source": [
    "# Load DataSet"
   ]
  },
  {
   "cell_type": "code",
   "execution_count": 5,
   "id": "e3ff90df-0dd5-48ad-af84-2bd22de7903b",
   "metadata": {},
   "outputs": [],
   "source": [
    "df_scout_dirty = pd.read_csv('../dataset/list_auto.csv', encoding='utf-8', sep=';')\n"
   ]
  },
  {
   "cell_type": "code",
   "execution_count": 6,
   "id": "adf108f9-b46c-4b55-8f15-8aa82fbc3b63",
   "metadata": {},
   "outputs": [
    {
     "data": {
      "text/html": [
       "<div>\n",
       "<style scoped>\n",
       "    .dataframe tbody tr th:only-of-type {\n",
       "        vertical-align: middle;\n",
       "    }\n",
       "\n",
       "    .dataframe tbody tr th {\n",
       "        vertical-align: top;\n",
       "    }\n",
       "\n",
       "    .dataframe thead th {\n",
       "        text-align: right;\n",
       "    }\n",
       "</style>\n",
       "<table border=\"1\" class=\"dataframe\">\n",
       "  <thead>\n",
       "    <tr style=\"text-align: right;\">\n",
       "      <th></th>\n",
       "      <th>id_ads</th>\n",
       "      <th>manufacturer_by</th>\n",
       "      <th>model</th>\n",
       "      <th>version</th>\n",
       "      <th>km</th>\n",
       "      <th>year</th>\n",
       "      <th>price</th>\n",
       "      <th>seller</th>\n",
       "      <th>endereco</th>\n",
       "      <th>scrapy_datetime</th>\n",
       "    </tr>\n",
       "  </thead>\n",
       "  <tbody>\n",
       "    <tr>\n",
       "      <th>0</th>\n",
       "      <td>8c9aef9c-1513-41ab-8db4-10686decdfb5</td>\n",
       "      <td>bmw</td>\n",
       "      <td>116</td>\n",
       "      <td>d 5p Msport auto</td>\n",
       "      <td>146000</td>\n",
       "      <td>06-2019</td>\n",
       "      <td>16500</td>\n",
       "      <td>Bryan Auto Srl</td>\n",
       "      <td>BRYAN AUTO • IT-13100 Vercelli</td>\n",
       "      <td>2024-11-22</td>\n",
       "    </tr>\n",
       "    <tr>\n",
       "      <th>1</th>\n",
       "      <td>78b02ce1-2c8f-4caf-88fc-7d59b6e42cda</td>\n",
       "      <td>bmw</td>\n",
       "      <td>x1</td>\n",
       "      <td>xdrive18d Business auto my18</td>\n",
       "      <td>100000</td>\n",
       "      <td>09-2018</td>\n",
       "      <td>18999</td>\n",
       "      <td>Bryan Auto Srl</td>\n",
       "      <td>BRYAN AUTO • IT-13100 Vercelli</td>\n",
       "      <td>2024-11-22</td>\n",
       "    </tr>\n",
       "    <tr>\n",
       "      <th>2</th>\n",
       "      <td>c3eb9e5d-f4e3-4864-a283-32063782cd8b</td>\n",
       "      <td>bmw</td>\n",
       "      <td>318</td>\n",
       "      <td>d Touring MHEV Business Advantage 150CV auto</td>\n",
       "      <td>140000</td>\n",
       "      <td>11-2020</td>\n",
       "      <td>19490</td>\n",
       "      <td>Bryan Auto Srl</td>\n",
       "      <td>BRYAN AUTO • IT-13100 Vercelli</td>\n",
       "      <td>2024-11-22</td>\n",
       "    </tr>\n",
       "    <tr>\n",
       "      <th>3</th>\n",
       "      <td>a564e061-226c-464f-bf1a-b178e7b929dc</td>\n",
       "      <td>bmw</td>\n",
       "      <td>116</td>\n",
       "      <td>116d 5p. Msport</td>\n",
       "      <td>53050</td>\n",
       "      <td>02-2019</td>\n",
       "      <td>19900</td>\n",
       "      <td>Bryan Auto Srl</td>\n",
       "      <td>BRYAN AUTO • IT-13100 Vercelli</td>\n",
       "      <td>2024-11-22</td>\n",
       "    </tr>\n",
       "    <tr>\n",
       "      <th>4</th>\n",
       "      <td>6e6ae0b6-d199-4d2e-96ec-d525bfb48e1e</td>\n",
       "      <td>bmw</td>\n",
       "      <td>730</td>\n",
       "      <td>d xDrive Eccelsa</td>\n",
       "      <td>226135</td>\n",
       "      <td>02-2018</td>\n",
       "      <td>25900</td>\n",
       "      <td>Bryan Auto Srl</td>\n",
       "      <td>BRYAN AUTO • IT-13100 Vercelli</td>\n",
       "      <td>2024-11-22</td>\n",
       "    </tr>\n",
       "  </tbody>\n",
       "</table>\n",
       "</div>"
      ],
      "text/plain": [
       "                                 id_ads manufacturer_by model  \\\n",
       "0  8c9aef9c-1513-41ab-8db4-10686decdfb5             bmw   116   \n",
       "1  78b02ce1-2c8f-4caf-88fc-7d59b6e42cda             bmw    x1   \n",
       "2  c3eb9e5d-f4e3-4864-a283-32063782cd8b             bmw   318   \n",
       "3  a564e061-226c-464f-bf1a-b178e7b929dc             bmw   116   \n",
       "4  6e6ae0b6-d199-4d2e-96ec-d525bfb48e1e             bmw   730   \n",
       "\n",
       "                                        version      km     year  price  \\\n",
       "0                              d 5p Msport auto  146000  06-2019  16500   \n",
       "1                  xdrive18d Business auto my18  100000  09-2018  18999   \n",
       "2  d Touring MHEV Business Advantage 150CV auto  140000  11-2020  19490   \n",
       "3                               116d 5p. Msport   53050  02-2019  19900   \n",
       "4                              d xDrive Eccelsa  226135  02-2018  25900   \n",
       "\n",
       "           seller                        endereco scrapy_datetime  \n",
       "0  Bryan Auto Srl  BRYAN AUTO • IT-13100 Vercelli      2024-11-22  \n",
       "1  Bryan Auto Srl  BRYAN AUTO • IT-13100 Vercelli      2024-11-22  \n",
       "2  Bryan Auto Srl  BRYAN AUTO • IT-13100 Vercelli      2024-11-22  \n",
       "3  Bryan Auto Srl  BRYAN AUTO • IT-13100 Vercelli      2024-11-22  \n",
       "4  Bryan Auto Srl  BRYAN AUTO • IT-13100 Vercelli      2024-11-22  "
      ]
     },
     "execution_count": 6,
     "metadata": {},
     "output_type": "execute_result"
    }
   ],
   "source": [
    "df_scout_dirty.head()"
   ]
  },
  {
   "cell_type": "code",
   "execution_count": null,
   "id": "3d82ac5f-a531-42c4-a2f5-1d34cc8402a7",
   "metadata": {},
   "outputs": [],
   "source": []
  }
 ],
 "metadata": {
  "kernelspec": {
   "display_name": ".venv_car",
   "language": "python",
   "name": "python3"
  },
  "language_info": {
   "codemirror_mode": {
    "name": "ipython",
    "version": 3
   },
   "file_extension": ".py",
   "mimetype": "text/x-python",
   "name": "python",
   "nbconvert_exporter": "python",
   "pygments_lexer": "ipython3",
   "version": "3.12.1"
  }
 },
 "nbformat": 4,
 "nbformat_minor": 5
}
