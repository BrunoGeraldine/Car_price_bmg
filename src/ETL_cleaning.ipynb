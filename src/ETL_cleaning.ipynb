{
 "cells": [
  {
   "cell_type": "markdown",
   "id": "1981758f-1503-4bb0-9e74-1d453eef207c",
   "metadata": {},
   "source": [
    "# Import"
   ]
  },
  {
   "cell_type": "code",
   "execution_count": 1,
   "id": "11cd53b7-6c82-41d2-9428-93f55331f6ac",
   "metadata": {},
   "outputs": [],
   "source": [
    "import re\n",
    "import pandas        as pd\n",
    "import numpy         as np"
   ]
  },
  {
   "cell_type": "markdown",
   "id": "07a59e4a-337d-4d94-86c9-d132da51fbb1",
   "metadata": {},
   "source": [
    "# Load DataSet"
   ]
  },
  {
   "cell_type": "code",
   "execution_count": 2,
   "id": "e3ff90df-0dd5-48ad-af84-2bd22de7903b",
   "metadata": {},
   "outputs": [],
   "source": [
    "df = pd.read_csv('../dataset/list_auto.csv', encoding='utf-8', sep=';')\n"
   ]
  },
  {
   "cell_type": "code",
   "execution_count": 3,
   "id": "adf108f9-b46c-4b55-8f15-8aa82fbc3b63",
   "metadata": {},
   "outputs": [
    {
     "data": {
      "text/html": [
       "<div>\n",
       "<style scoped>\n",
       "    .dataframe tbody tr th:only-of-type {\n",
       "        vertical-align: middle;\n",
       "    }\n",
       "\n",
       "    .dataframe tbody tr th {\n",
       "        vertical-align: top;\n",
       "    }\n",
       "\n",
       "    .dataframe thead th {\n",
       "        text-align: right;\n",
       "    }\n",
       "</style>\n",
       "<table border=\"1\" class=\"dataframe\">\n",
       "  <thead>\n",
       "    <tr style=\"text-align: right;\">\n",
       "      <th></th>\n",
       "      <th>id_ads</th>\n",
       "      <th>manufacturer_by</th>\n",
       "      <th>model</th>\n",
       "      <th>version</th>\n",
       "      <th>km</th>\n",
       "      <th>year</th>\n",
       "      <th>price</th>\n",
       "      <th>seller</th>\n",
       "      <th>endereco</th>\n",
       "      <th>scrapy_datetime</th>\n",
       "      <th>address</th>\n",
       "    </tr>\n",
       "  </thead>\n",
       "  <tbody>\n",
       "    <tr>\n",
       "      <th>0</th>\n",
       "      <td>8c9aef9c-1513-41ab-8db4-10686decdfb5</td>\n",
       "      <td>bmw</td>\n",
       "      <td>116</td>\n",
       "      <td>d 5p Msport auto</td>\n",
       "      <td>146000</td>\n",
       "      <td>06-2019</td>\n",
       "      <td>16500</td>\n",
       "      <td>Bryan Auto Srl</td>\n",
       "      <td>BRYAN AUTO • IT-13100 Vercelli</td>\n",
       "      <td>2024-11-22</td>\n",
       "      <td>NaN</td>\n",
       "    </tr>\n",
       "    <tr>\n",
       "      <th>1</th>\n",
       "      <td>78b02ce1-2c8f-4caf-88fc-7d59b6e42cda</td>\n",
       "      <td>bmw</td>\n",
       "      <td>x1</td>\n",
       "      <td>xdrive18d Business auto my18</td>\n",
       "      <td>100000</td>\n",
       "      <td>09-2018</td>\n",
       "      <td>18999</td>\n",
       "      <td>Bryan Auto Srl</td>\n",
       "      <td>BRYAN AUTO • IT-13100 Vercelli</td>\n",
       "      <td>2024-11-22</td>\n",
       "      <td>NaN</td>\n",
       "    </tr>\n",
       "    <tr>\n",
       "      <th>2</th>\n",
       "      <td>c3eb9e5d-f4e3-4864-a283-32063782cd8b</td>\n",
       "      <td>bmw</td>\n",
       "      <td>318</td>\n",
       "      <td>d Touring MHEV Business Advantage 150CV auto</td>\n",
       "      <td>140000</td>\n",
       "      <td>11-2020</td>\n",
       "      <td>19490</td>\n",
       "      <td>Bryan Auto Srl</td>\n",
       "      <td>BRYAN AUTO • IT-13100 Vercelli</td>\n",
       "      <td>2024-11-22</td>\n",
       "      <td>NaN</td>\n",
       "    </tr>\n",
       "    <tr>\n",
       "      <th>3</th>\n",
       "      <td>a564e061-226c-464f-bf1a-b178e7b929dc</td>\n",
       "      <td>bmw</td>\n",
       "      <td>116</td>\n",
       "      <td>116d 5p. Msport</td>\n",
       "      <td>53050</td>\n",
       "      <td>02-2019</td>\n",
       "      <td>19900</td>\n",
       "      <td>Bryan Auto Srl</td>\n",
       "      <td>BRYAN AUTO • IT-13100 Vercelli</td>\n",
       "      <td>2024-11-22</td>\n",
       "      <td>NaN</td>\n",
       "    </tr>\n",
       "    <tr>\n",
       "      <th>4</th>\n",
       "      <td>6e6ae0b6-d199-4d2e-96ec-d525bfb48e1e</td>\n",
       "      <td>bmw</td>\n",
       "      <td>730</td>\n",
       "      <td>d xDrive Eccelsa</td>\n",
       "      <td>226135</td>\n",
       "      <td>02-2018</td>\n",
       "      <td>25900</td>\n",
       "      <td>Bryan Auto Srl</td>\n",
       "      <td>BRYAN AUTO • IT-13100 Vercelli</td>\n",
       "      <td>2024-11-22</td>\n",
       "      <td>NaN</td>\n",
       "    </tr>\n",
       "  </tbody>\n",
       "</table>\n",
       "</div>"
      ],
      "text/plain": [
       "                                 id_ads manufacturer_by model  \\\n",
       "0  8c9aef9c-1513-41ab-8db4-10686decdfb5             bmw   116   \n",
       "1  78b02ce1-2c8f-4caf-88fc-7d59b6e42cda             bmw    x1   \n",
       "2  c3eb9e5d-f4e3-4864-a283-32063782cd8b             bmw   318   \n",
       "3  a564e061-226c-464f-bf1a-b178e7b929dc             bmw   116   \n",
       "4  6e6ae0b6-d199-4d2e-96ec-d525bfb48e1e             bmw   730   \n",
       "\n",
       "                                        version      km     year  price  \\\n",
       "0                              d 5p Msport auto  146000  06-2019  16500   \n",
       "1                  xdrive18d Business auto my18  100000  09-2018  18999   \n",
       "2  d Touring MHEV Business Advantage 150CV auto  140000  11-2020  19490   \n",
       "3                               116d 5p. Msport   53050  02-2019  19900   \n",
       "4                              d xDrive Eccelsa  226135  02-2018  25900   \n",
       "\n",
       "           seller                        endereco scrapy_datetime address  \n",
       "0  Bryan Auto Srl  BRYAN AUTO • IT-13100 Vercelli      2024-11-22     NaN  \n",
       "1  Bryan Auto Srl  BRYAN AUTO • IT-13100 Vercelli      2024-11-22     NaN  \n",
       "2  Bryan Auto Srl  BRYAN AUTO • IT-13100 Vercelli      2024-11-22     NaN  \n",
       "3  Bryan Auto Srl  BRYAN AUTO • IT-13100 Vercelli      2024-11-22     NaN  \n",
       "4  Bryan Auto Srl  BRYAN AUTO • IT-13100 Vercelli      2024-11-22     NaN  "
      ]
     },
     "execution_count": 3,
     "metadata": {},
     "output_type": "execute_result"
    }
   ],
   "source": [
    "df.head()"
   ]
  },
  {
   "cell_type": "markdown",
   "id": "70fb456d-8dc9-4c93-beeb-eac7dc39b7db",
   "metadata": {},
   "source": [
    "# Using REGEX langague to clean and capture data-info"
   ]
  },
  {
   "cell_type": "code",
   "execution_count": 4,
   "id": "2589ad2b-f556-4ecd-9117-e0205d146654",
   "metadata": {},
   "outputs": [],
   "source": [
    "df_clean = df.copy()"
   ]
  },
  {
   "cell_type": "code",
   "execution_count": 7,
   "id": "20be9ba6",
   "metadata": {},
   "outputs": [
    {
     "name": "stderr",
     "output_type": "stream",
     "text": [
      "<>:3: SyntaxWarning: invalid escape sequence '\\d'\n",
      "<>:3: SyntaxWarning: invalid escape sequence '\\d'\n",
      "C:\\Users\\bruno\\AppData\\Local\\Temp\\ipykernel_1816\\1301195681.py:3: SyntaxWarning: invalid escape sequence '\\d'\n",
      "  df_clean['zip_code'] = df_clean['endereco'].apply(lambda x: int(re.search('\\d+', x).group(0) if pd.notnull( x ) else x ))\n"
     ]
    },
    {
     "ename": "ValueError",
     "evalue": "cannot convert float NaN to integer",
     "output_type": "error",
     "traceback": [
      "\u001b[1;31m---------------------------------------------------------------------------\u001b[0m",
      "\u001b[1;31mValueError\u001b[0m                                Traceback (most recent call last)",
      "Cell \u001b[1;32mIn[7], line 3\u001b[0m\n\u001b[0;32m      1\u001b[0m \u001b[38;5;66;03m# \"Extracting the postal code from the vehicle's country of origin. \u001b[39;00m\n\u001b[0;32m      2\u001b[0m \u001b[38;5;66;03m# Applying Regex for data cleaning.\"\u001b[39;00m\n\u001b[1;32m----> 3\u001b[0m df_clean[\u001b[38;5;124m'\u001b[39m\u001b[38;5;124mzip_code\u001b[39m\u001b[38;5;124m'\u001b[39m] \u001b[38;5;241m=\u001b[39m \u001b[43mdf_clean\u001b[49m\u001b[43m[\u001b[49m\u001b[38;5;124;43m'\u001b[39;49m\u001b[38;5;124;43mendereco\u001b[39;49m\u001b[38;5;124;43m'\u001b[39;49m\u001b[43m]\u001b[49m\u001b[38;5;241;43m.\u001b[39;49m\u001b[43mapply\u001b[49m\u001b[43m(\u001b[49m\u001b[38;5;28;43;01mlambda\u001b[39;49;00m\u001b[43m \u001b[49m\u001b[43mx\u001b[49m\u001b[43m:\u001b[49m\u001b[43m \u001b[49m\u001b[38;5;28;43mint\u001b[39;49m\u001b[43m(\u001b[49m\u001b[43mre\u001b[49m\u001b[38;5;241;43m.\u001b[39;49m\u001b[43msearch\u001b[49m\u001b[43m(\u001b[49m\u001b[38;5;124;43m'\u001b[39;49m\u001b[38;5;124;43m\\\u001b[39;49m\u001b[38;5;124;43md+\u001b[39;49m\u001b[38;5;124;43m'\u001b[39;49m\u001b[43m,\u001b[49m\u001b[43m \u001b[49m\u001b[43mx\u001b[49m\u001b[43m)\u001b[49m\u001b[38;5;241;43m.\u001b[39;49m\u001b[43mgroup\u001b[49m\u001b[43m(\u001b[49m\u001b[38;5;241;43m0\u001b[39;49m\u001b[43m)\u001b[49m\u001b[43m \u001b[49m\u001b[38;5;28;43;01mif\u001b[39;49;00m\u001b[43m \u001b[49m\u001b[43mpd\u001b[49m\u001b[38;5;241;43m.\u001b[39;49m\u001b[43mnotnull\u001b[49m\u001b[43m(\u001b[49m\u001b[43m \u001b[49m\u001b[43mx\u001b[49m\u001b[43m \u001b[49m\u001b[43m)\u001b[49m\u001b[43m \u001b[49m\u001b[38;5;28;43;01melse\u001b[39;49;00m\u001b[43m \u001b[49m\u001b[43mx\u001b[49m\u001b[43m \u001b[49m\u001b[43m)\u001b[49m\u001b[43m)\u001b[49m\n",
      "File \u001b[1;32mc:\\Users\\bruno\\Documents\\Car_price_bmg\\.venv_car\\Lib\\site-packages\\pandas\\core\\series.py:4924\u001b[0m, in \u001b[0;36mSeries.apply\u001b[1;34m(self, func, convert_dtype, args, by_row, **kwargs)\u001b[0m\n\u001b[0;32m   4789\u001b[0m \u001b[38;5;28;01mdef\u001b[39;00m \u001b[38;5;21mapply\u001b[39m(\n\u001b[0;32m   4790\u001b[0m     \u001b[38;5;28mself\u001b[39m,\n\u001b[0;32m   4791\u001b[0m     func: AggFuncType,\n\u001b[1;32m   (...)\u001b[0m\n\u001b[0;32m   4796\u001b[0m     \u001b[38;5;241m*\u001b[39m\u001b[38;5;241m*\u001b[39mkwargs,\n\u001b[0;32m   4797\u001b[0m ) \u001b[38;5;241m-\u001b[39m\u001b[38;5;241m>\u001b[39m DataFrame \u001b[38;5;241m|\u001b[39m Series:\n\u001b[0;32m   4798\u001b[0m \u001b[38;5;250m    \u001b[39m\u001b[38;5;124;03m\"\"\"\u001b[39;00m\n\u001b[0;32m   4799\u001b[0m \u001b[38;5;124;03m    Invoke function on values of Series.\u001b[39;00m\n\u001b[0;32m   4800\u001b[0m \n\u001b[1;32m   (...)\u001b[0m\n\u001b[0;32m   4915\u001b[0m \u001b[38;5;124;03m    dtype: float64\u001b[39;00m\n\u001b[0;32m   4916\u001b[0m \u001b[38;5;124;03m    \"\"\"\u001b[39;00m\n\u001b[0;32m   4917\u001b[0m     \u001b[38;5;28;01mreturn\u001b[39;00m \u001b[43mSeriesApply\u001b[49m\u001b[43m(\u001b[49m\n\u001b[0;32m   4918\u001b[0m \u001b[43m        \u001b[49m\u001b[38;5;28;43mself\u001b[39;49m\u001b[43m,\u001b[49m\n\u001b[0;32m   4919\u001b[0m \u001b[43m        \u001b[49m\u001b[43mfunc\u001b[49m\u001b[43m,\u001b[49m\n\u001b[0;32m   4920\u001b[0m \u001b[43m        \u001b[49m\u001b[43mconvert_dtype\u001b[49m\u001b[38;5;241;43m=\u001b[39;49m\u001b[43mconvert_dtype\u001b[49m\u001b[43m,\u001b[49m\n\u001b[0;32m   4921\u001b[0m \u001b[43m        \u001b[49m\u001b[43mby_row\u001b[49m\u001b[38;5;241;43m=\u001b[39;49m\u001b[43mby_row\u001b[49m\u001b[43m,\u001b[49m\n\u001b[0;32m   4922\u001b[0m \u001b[43m        \u001b[49m\u001b[43margs\u001b[49m\u001b[38;5;241;43m=\u001b[39;49m\u001b[43margs\u001b[49m\u001b[43m,\u001b[49m\n\u001b[0;32m   4923\u001b[0m \u001b[43m        \u001b[49m\u001b[43mkwargs\u001b[49m\u001b[38;5;241;43m=\u001b[39;49m\u001b[43mkwargs\u001b[49m\u001b[43m,\u001b[49m\n\u001b[1;32m-> 4924\u001b[0m \u001b[43m    \u001b[49m\u001b[43m)\u001b[49m\u001b[38;5;241;43m.\u001b[39;49m\u001b[43mapply\u001b[49m\u001b[43m(\u001b[49m\u001b[43m)\u001b[49m\n",
      "File \u001b[1;32mc:\\Users\\bruno\\Documents\\Car_price_bmg\\.venv_car\\Lib\\site-packages\\pandas\\core\\apply.py:1427\u001b[0m, in \u001b[0;36mSeriesApply.apply\u001b[1;34m(self)\u001b[0m\n\u001b[0;32m   1424\u001b[0m     \u001b[38;5;28;01mreturn\u001b[39;00m \u001b[38;5;28mself\u001b[39m\u001b[38;5;241m.\u001b[39mapply_compat()\n\u001b[0;32m   1426\u001b[0m \u001b[38;5;66;03m# self.func is Callable\u001b[39;00m\n\u001b[1;32m-> 1427\u001b[0m \u001b[38;5;28;01mreturn\u001b[39;00m \u001b[38;5;28;43mself\u001b[39;49m\u001b[38;5;241;43m.\u001b[39;49m\u001b[43mapply_standard\u001b[49m\u001b[43m(\u001b[49m\u001b[43m)\u001b[49m\n",
      "File \u001b[1;32mc:\\Users\\bruno\\Documents\\Car_price_bmg\\.venv_car\\Lib\\site-packages\\pandas\\core\\apply.py:1507\u001b[0m, in \u001b[0;36mSeriesApply.apply_standard\u001b[1;34m(self)\u001b[0m\n\u001b[0;32m   1501\u001b[0m \u001b[38;5;66;03m# row-wise access\u001b[39;00m\n\u001b[0;32m   1502\u001b[0m \u001b[38;5;66;03m# apply doesn't have a `na_action` keyword and for backward compat reasons\u001b[39;00m\n\u001b[0;32m   1503\u001b[0m \u001b[38;5;66;03m# we need to give `na_action=\"ignore\"` for categorical data.\u001b[39;00m\n\u001b[0;32m   1504\u001b[0m \u001b[38;5;66;03m# TODO: remove the `na_action=\"ignore\"` when that default has been changed in\u001b[39;00m\n\u001b[0;32m   1505\u001b[0m \u001b[38;5;66;03m#  Categorical (GH51645).\u001b[39;00m\n\u001b[0;32m   1506\u001b[0m action \u001b[38;5;241m=\u001b[39m \u001b[38;5;124m\"\u001b[39m\u001b[38;5;124mignore\u001b[39m\u001b[38;5;124m\"\u001b[39m \u001b[38;5;28;01mif\u001b[39;00m \u001b[38;5;28misinstance\u001b[39m(obj\u001b[38;5;241m.\u001b[39mdtype, CategoricalDtype) \u001b[38;5;28;01melse\u001b[39;00m \u001b[38;5;28;01mNone\u001b[39;00m\n\u001b[1;32m-> 1507\u001b[0m mapped \u001b[38;5;241m=\u001b[39m \u001b[43mobj\u001b[49m\u001b[38;5;241;43m.\u001b[39;49m\u001b[43m_map_values\u001b[49m\u001b[43m(\u001b[49m\n\u001b[0;32m   1508\u001b[0m \u001b[43m    \u001b[49m\u001b[43mmapper\u001b[49m\u001b[38;5;241;43m=\u001b[39;49m\u001b[43mcurried\u001b[49m\u001b[43m,\u001b[49m\u001b[43m \u001b[49m\u001b[43mna_action\u001b[49m\u001b[38;5;241;43m=\u001b[39;49m\u001b[43maction\u001b[49m\u001b[43m,\u001b[49m\u001b[43m \u001b[49m\u001b[43mconvert\u001b[49m\u001b[38;5;241;43m=\u001b[39;49m\u001b[38;5;28;43mself\u001b[39;49m\u001b[38;5;241;43m.\u001b[39;49m\u001b[43mconvert_dtype\u001b[49m\n\u001b[0;32m   1509\u001b[0m \u001b[43m\u001b[49m\u001b[43m)\u001b[49m\n\u001b[0;32m   1511\u001b[0m \u001b[38;5;28;01mif\u001b[39;00m \u001b[38;5;28mlen\u001b[39m(mapped) \u001b[38;5;129;01mand\u001b[39;00m \u001b[38;5;28misinstance\u001b[39m(mapped[\u001b[38;5;241m0\u001b[39m], ABCSeries):\n\u001b[0;32m   1512\u001b[0m     \u001b[38;5;66;03m# GH#43986 Need to do list(mapped) in order to get treated as nested\u001b[39;00m\n\u001b[0;32m   1513\u001b[0m     \u001b[38;5;66;03m#  See also GH#25959 regarding EA support\u001b[39;00m\n\u001b[0;32m   1514\u001b[0m     \u001b[38;5;28;01mreturn\u001b[39;00m obj\u001b[38;5;241m.\u001b[39m_constructor_expanddim(\u001b[38;5;28mlist\u001b[39m(mapped), index\u001b[38;5;241m=\u001b[39mobj\u001b[38;5;241m.\u001b[39mindex)\n",
      "File \u001b[1;32mc:\\Users\\bruno\\Documents\\Car_price_bmg\\.venv_car\\Lib\\site-packages\\pandas\\core\\base.py:921\u001b[0m, in \u001b[0;36mIndexOpsMixin._map_values\u001b[1;34m(self, mapper, na_action, convert)\u001b[0m\n\u001b[0;32m    918\u001b[0m \u001b[38;5;28;01mif\u001b[39;00m \u001b[38;5;28misinstance\u001b[39m(arr, ExtensionArray):\n\u001b[0;32m    919\u001b[0m     \u001b[38;5;28;01mreturn\u001b[39;00m arr\u001b[38;5;241m.\u001b[39mmap(mapper, na_action\u001b[38;5;241m=\u001b[39mna_action)\n\u001b[1;32m--> 921\u001b[0m \u001b[38;5;28;01mreturn\u001b[39;00m \u001b[43malgorithms\u001b[49m\u001b[38;5;241;43m.\u001b[39;49m\u001b[43mmap_array\u001b[49m\u001b[43m(\u001b[49m\u001b[43marr\u001b[49m\u001b[43m,\u001b[49m\u001b[43m \u001b[49m\u001b[43mmapper\u001b[49m\u001b[43m,\u001b[49m\u001b[43m \u001b[49m\u001b[43mna_action\u001b[49m\u001b[38;5;241;43m=\u001b[39;49m\u001b[43mna_action\u001b[49m\u001b[43m,\u001b[49m\u001b[43m \u001b[49m\u001b[43mconvert\u001b[49m\u001b[38;5;241;43m=\u001b[39;49m\u001b[43mconvert\u001b[49m\u001b[43m)\u001b[49m\n",
      "File \u001b[1;32mc:\\Users\\bruno\\Documents\\Car_price_bmg\\.venv_car\\Lib\\site-packages\\pandas\\core\\algorithms.py:1743\u001b[0m, in \u001b[0;36mmap_array\u001b[1;34m(arr, mapper, na_action, convert)\u001b[0m\n\u001b[0;32m   1741\u001b[0m values \u001b[38;5;241m=\u001b[39m arr\u001b[38;5;241m.\u001b[39mastype(\u001b[38;5;28mobject\u001b[39m, copy\u001b[38;5;241m=\u001b[39m\u001b[38;5;28;01mFalse\u001b[39;00m)\n\u001b[0;32m   1742\u001b[0m \u001b[38;5;28;01mif\u001b[39;00m na_action \u001b[38;5;129;01mis\u001b[39;00m \u001b[38;5;28;01mNone\u001b[39;00m:\n\u001b[1;32m-> 1743\u001b[0m     \u001b[38;5;28;01mreturn\u001b[39;00m \u001b[43mlib\u001b[49m\u001b[38;5;241;43m.\u001b[39;49m\u001b[43mmap_infer\u001b[49m\u001b[43m(\u001b[49m\u001b[43mvalues\u001b[49m\u001b[43m,\u001b[49m\u001b[43m \u001b[49m\u001b[43mmapper\u001b[49m\u001b[43m,\u001b[49m\u001b[43m \u001b[49m\u001b[43mconvert\u001b[49m\u001b[38;5;241;43m=\u001b[39;49m\u001b[43mconvert\u001b[49m\u001b[43m)\u001b[49m\n\u001b[0;32m   1744\u001b[0m \u001b[38;5;28;01melse\u001b[39;00m:\n\u001b[0;32m   1745\u001b[0m     \u001b[38;5;28;01mreturn\u001b[39;00m lib\u001b[38;5;241m.\u001b[39mmap_infer_mask(\n\u001b[0;32m   1746\u001b[0m         values, mapper, mask\u001b[38;5;241m=\u001b[39misna(values)\u001b[38;5;241m.\u001b[39mview(np\u001b[38;5;241m.\u001b[39muint8), convert\u001b[38;5;241m=\u001b[39mconvert\n\u001b[0;32m   1747\u001b[0m     )\n",
      "File \u001b[1;32mlib.pyx:2972\u001b[0m, in \u001b[0;36mpandas._libs.lib.map_infer\u001b[1;34m()\u001b[0m\n",
      "Cell \u001b[1;32mIn[7], line 3\u001b[0m, in \u001b[0;36m<lambda>\u001b[1;34m(x)\u001b[0m\n\u001b[0;32m      1\u001b[0m \u001b[38;5;66;03m# \"Extracting the postal code from the vehicle's country of origin. \u001b[39;00m\n\u001b[0;32m      2\u001b[0m \u001b[38;5;66;03m# Applying Regex for data cleaning.\"\u001b[39;00m\n\u001b[1;32m----> 3\u001b[0m df_clean[\u001b[38;5;124m'\u001b[39m\u001b[38;5;124mzip_code\u001b[39m\u001b[38;5;124m'\u001b[39m] \u001b[38;5;241m=\u001b[39m df_clean[\u001b[38;5;124m'\u001b[39m\u001b[38;5;124mendereco\u001b[39m\u001b[38;5;124m'\u001b[39m]\u001b[38;5;241m.\u001b[39mapply(\u001b[38;5;28;01mlambda\u001b[39;00m x: \u001b[38;5;28;43mint\u001b[39;49m\u001b[43m(\u001b[49m\u001b[43mre\u001b[49m\u001b[38;5;241;43m.\u001b[39;49m\u001b[43msearch\u001b[49m\u001b[43m(\u001b[49m\u001b[38;5;124;43m'\u001b[39;49m\u001b[38;5;124;43m\\\u001b[39;49m\u001b[38;5;124;43md+\u001b[39;49m\u001b[38;5;124;43m'\u001b[39;49m\u001b[43m,\u001b[49m\u001b[43m \u001b[49m\u001b[43mx\u001b[49m\u001b[43m)\u001b[49m\u001b[38;5;241;43m.\u001b[39;49m\u001b[43mgroup\u001b[49m\u001b[43m(\u001b[49m\u001b[38;5;241;43m0\u001b[39;49m\u001b[43m)\u001b[49m\u001b[43m \u001b[49m\u001b[38;5;28;43;01mif\u001b[39;49;00m\u001b[43m \u001b[49m\u001b[43mpd\u001b[49m\u001b[38;5;241;43m.\u001b[39;49m\u001b[43mnotnull\u001b[49m\u001b[43m(\u001b[49m\u001b[43m \u001b[49m\u001b[43mx\u001b[49m\u001b[43m \u001b[49m\u001b[43m)\u001b[49m\u001b[43m \u001b[49m\u001b[38;5;28;43;01melse\u001b[39;49;00m\u001b[43m \u001b[49m\u001b[43mx\u001b[49m\u001b[43m \u001b[49m\u001b[43m)\u001b[49m)\n",
      "\u001b[1;31mValueError\u001b[0m: cannot convert float NaN to integer"
     ]
    }
   ],
   "source": [
    "# \"Extracting the postal code from the vehicle's country of origin. \n",
    "# Applying Regex for data cleaning.\"\n",
    "df_clean['zip_code'] = df_clean['endereco'].apply(lambda x: int(re.search('\\d+', x).group(0) if pd.notnull( x ) else x ))"
   ]
  },
  {
   "cell_type": "code",
   "execution_count": null,
   "id": "082f7197",
   "metadata": {},
   "outputs": [],
   "source": []
  },
  {
   "cell_type": "code",
   "execution_count": 10,
   "id": "bfdbd370-89d8-4ee1-a06d-376461cc7140",
   "metadata": {},
   "outputs": [],
   "source": [
    "# Model\n",
    "df_clean['model'] = 'DEFENDER' + ' ' + df_clean['version'].apply(lambda x: ' '.join(re.findall(r'\\b(88|90|110|130)\\b', x)) if re.findall(r'\\d+', x) else None)"
   ]
  },
  {
   "cell_type": "code",
   "execution_count": 11,
   "id": "3a0d9a1b",
   "metadata": {},
   "outputs": [],
   "source": [
    "# Version Type\n",
    "df_clean['engine'] = df_clean['version'].apply(lambda x: ' '.join(re.findall(r'[A-Za-z]+\\d+', x)) if re.findall(r'\\d+', x) else None)\n",
    "df_clean['engine_version'] = df_clean['version'].apply(lambda x: ' '.join(re.findall(r'(AWD|SW|SE|HSE|MHEV|HT)', x)) if re.findall(r'\\d+', x) else None)\n",
    "df_clean['cc_engine'] = df_clean['version'].apply(lambda x: ' '.join(re.findall(r'\\b\\d\\.\\d', x)) if re.findall(r'\\d+', x) else None)\n",
    "\n",
    "# Replacing model version values.\n",
    "df_clean['version'] = df_clean.apply(lambda row: row['engine'] + ' ' + row['engine_version'] + ' ' + row['cc_engine'] if row['engine'] is not None and row['engine_version'] is not None and row['cc_engine'] is not None else None, axis=1)\n"
   ]
  },
  {
   "cell_type": "code",
   "execution_count": 12,
   "id": "dac7b345",
   "metadata": {},
   "outputs": [],
   "source": [
    "#Country\n",
    "df_clean['country'] = df_clean['endereco'].apply(lambda x: str(re.search(r\"([A-Z]{2})\", x).group(0) if pd.notnull( x ) else x ))"
   ]
  },
  {
   "cell_type": "code",
   "execution_count": 13,
   "id": "6b4a9ab6",
   "metadata": {},
   "outputs": [],
   "source": [
    "# DataTime cleaning\n",
    "\n",
    "df_clean['year'] = df_clean['year'].str.replace('-', '/')\n",
    "\n",
    "\n",
    "for i in range(len(df_clean)):\n",
    "    if df_clean['year'][i] == 'new' or df_clean['year'][i] == 'unknown' or df_clean['year'][i] == 'None':\n",
    "        df_clean.at[i, 'year'] = '01/2023'\n",
    "\n",
    "\n",
    "df_clean['year'] = pd.to_datetime(df_clean['year'], format='%m/%Y')\n",
    "\n",
    "df_clean['year'] = df_clean['year'].dt.year\n"
   ]
  },
  {
   "cell_type": "markdown",
   "id": "acc67b72",
   "metadata": {},
   "source": [
    "## DataFrame Final"
   ]
  },
  {
   "cell_type": "code",
   "execution_count": 14,
   "id": "c8850055",
   "metadata": {},
   "outputs": [],
   "source": [
    "df_final = pd.DataFrame(df_clean[['id_ads', 'manufacturer_by', 'model', 'version', 'km', 'year',\n",
    "                                  'price', 'seller', 'endereco', 'scrapy_datetime', 'zip_code', 'country']])"
   ]
  },
  {
   "cell_type": "code",
   "execution_count": 15,
   "id": "cf3eca3b",
   "metadata": {},
   "outputs": [
    {
     "data": {
      "text/html": [
       "<div>\n",
       "<style scoped>\n",
       "    .dataframe tbody tr th:only-of-type {\n",
       "        vertical-align: middle;\n",
       "    }\n",
       "\n",
       "    .dataframe tbody tr th {\n",
       "        vertical-align: top;\n",
       "    }\n",
       "\n",
       "    .dataframe thead th {\n",
       "        text-align: right;\n",
       "    }\n",
       "</style>\n",
       "<table border=\"1\" class=\"dataframe\">\n",
       "  <thead>\n",
       "    <tr style=\"text-align: right;\">\n",
       "      <th></th>\n",
       "      <th>id_ads</th>\n",
       "      <th>manufacturer_by</th>\n",
       "      <th>model</th>\n",
       "      <th>version</th>\n",
       "      <th>km</th>\n",
       "      <th>year</th>\n",
       "      <th>price</th>\n",
       "      <th>seller</th>\n",
       "      <th>endereco</th>\n",
       "      <th>scrapy_datetime</th>\n",
       "      <th>zip_code</th>\n",
       "      <th>country</th>\n",
       "    </tr>\n",
       "  </thead>\n",
       "  <tbody>\n",
       "    <tr>\n",
       "      <th>0</th>\n",
       "      <td>7fd72920-850d-43ba-a452-cbae1a6398da</td>\n",
       "      <td>land rover</td>\n",
       "      <td>DEFENDER 110</td>\n",
       "      <td>SW SE</td>\n",
       "      <td>81000</td>\n",
       "      <td>2015</td>\n",
       "      <td>38000</td>\n",
       "      <td>AUTOMOVILES MARTIN</td>\n",
       "      <td>Contáctanos en: • ES-14440 VILLANUEVA DE CÓRDOBA</td>\n",
       "      <td>2023-10-19 12:22:03</td>\n",
       "      <td>14440</td>\n",
       "      <td>ES</td>\n",
       "    </tr>\n",
       "    <tr>\n",
       "      <th>1</th>\n",
       "      <td>840de0a3-82a9-454c-a725-508e211af7de</td>\n",
       "      <td>land rover</td>\n",
       "      <td>DEFENDER 90</td>\n",
       "      <td>td5</td>\n",
       "      <td>147000</td>\n",
       "      <td>1999</td>\n",
       "      <td>24900</td>\n",
       "      <td>AUTOMOVILES MARTIN</td>\n",
       "      <td>Contáctanos en: • ES-14440 VILLANUEVA DE CÓRDOBA</td>\n",
       "      <td>2023-10-19 12:22:03</td>\n",
       "      <td>14440</td>\n",
       "      <td>ES</td>\n",
       "    </tr>\n",
       "    <tr>\n",
       "      <th>2</th>\n",
       "      <td>6611c967-ab67-4db5-b28f-37b77fcd332f</td>\n",
       "      <td>land rover</td>\n",
       "      <td>DEFENDER 110</td>\n",
       "      <td>SW</td>\n",
       "      <td>79000</td>\n",
       "      <td>2013</td>\n",
       "      <td>39900</td>\n",
       "      <td>AUTOMOVILES MARTIN</td>\n",
       "      <td>Contáctanos en: • ES-14440 VILLANUEVA DE CÓRDOBA</td>\n",
       "      <td>2023-10-19 12:22:03</td>\n",
       "      <td>14440</td>\n",
       "      <td>ES</td>\n",
       "    </tr>\n",
       "    <tr>\n",
       "      <th>3</th>\n",
       "      <td>7484ee53-ebc5-4510-8bf9-032e657837cf</td>\n",
       "      <td>land rover</td>\n",
       "      <td>DEFENDER 110</td>\n",
       "      <td>SW</td>\n",
       "      <td>78000</td>\n",
       "      <td>2012</td>\n",
       "      <td>39500</td>\n",
       "      <td>AUTOMOVILES MARTIN</td>\n",
       "      <td>Contáctanos en: • ES-14440 VILLANUEVA DE CÓRDOBA</td>\n",
       "      <td>2023-10-19 12:22:03</td>\n",
       "      <td>14440</td>\n",
       "      <td>ES</td>\n",
       "    </tr>\n",
       "    <tr>\n",
       "      <th>4</th>\n",
       "      <td>08c56b66-b680-4f5c-b63a-33ce190b65eb</td>\n",
       "      <td>land rover</td>\n",
       "      <td>DEFENDER 110</td>\n",
       "      <td>SW SE</td>\n",
       "      <td>52000</td>\n",
       "      <td>2014</td>\n",
       "      <td>42600</td>\n",
       "      <td>AUTOMOVILES MARTIN</td>\n",
       "      <td>Contáctanos en: • ES-14440 VILLANUEVA DE CÓRDOBA</td>\n",
       "      <td>2023-10-19 12:22:03</td>\n",
       "      <td>14440</td>\n",
       "      <td>ES</td>\n",
       "    </tr>\n",
       "  </tbody>\n",
       "</table>\n",
       "</div>"
      ],
      "text/plain": [
       "                                 id_ads manufacturer_by         model  \\\n",
       "0  7fd72920-850d-43ba-a452-cbae1a6398da      land rover  DEFENDER 110   \n",
       "1  840de0a3-82a9-454c-a725-508e211af7de      land rover   DEFENDER 90   \n",
       "2  6611c967-ab67-4db5-b28f-37b77fcd332f      land rover  DEFENDER 110   \n",
       "3  7484ee53-ebc5-4510-8bf9-032e657837cf      land rover  DEFENDER 110   \n",
       "4  08c56b66-b680-4f5c-b63a-33ce190b65eb      land rover  DEFENDER 110   \n",
       "\n",
       "   version      km  year  price              seller  \\\n",
       "0   SW SE    81000  2015  38000  AUTOMOVILES MARTIN   \n",
       "1    td5    147000  1999  24900  AUTOMOVILES MARTIN   \n",
       "2      SW    79000  2013  39900  AUTOMOVILES MARTIN   \n",
       "3      SW    78000  2012  39500  AUTOMOVILES MARTIN   \n",
       "4   SW SE    52000  2014  42600  AUTOMOVILES MARTIN   \n",
       "\n",
       "                                           endereco      scrapy_datetime  \\\n",
       "0  Contáctanos en: • ES-14440 VILLANUEVA DE CÓRDOBA  2023-10-19 12:22:03   \n",
       "1  Contáctanos en: • ES-14440 VILLANUEVA DE CÓRDOBA  2023-10-19 12:22:03   \n",
       "2  Contáctanos en: • ES-14440 VILLANUEVA DE CÓRDOBA  2023-10-19 12:22:03   \n",
       "3  Contáctanos en: • ES-14440 VILLANUEVA DE CÓRDOBA  2023-10-19 12:22:03   \n",
       "4  Contáctanos en: • ES-14440 VILLANUEVA DE CÓRDOBA  2023-10-19 12:22:03   \n",
       "\n",
       "   zip_code country  \n",
       "0     14440      ES  \n",
       "1     14440      ES  \n",
       "2     14440      ES  \n",
       "3     14440      ES  \n",
       "4     14440      ES  "
      ]
     },
     "execution_count": 15,
     "metadata": {},
     "output_type": "execute_result"
    }
   ],
   "source": [
    "df_final.head()"
   ]
  },
  {
   "cell_type": "code",
   "execution_count": 16,
   "id": "3e9fec1a",
   "metadata": {},
   "outputs": [
    {
     "data": {
      "text/plain": [
       "id_ads             object\n",
       "manufacturer_by    object\n",
       "model              object\n",
       "version            object\n",
       "km                 object\n",
       "year                int32\n",
       "price               int64\n",
       "seller             object\n",
       "endereco           object\n",
       "scrapy_datetime    object\n",
       "zip_code            int64\n",
       "country            object\n",
       "dtype: object"
      ]
     },
     "execution_count": 16,
     "metadata": {},
     "output_type": "execute_result"
    }
   ],
   "source": [
    "df_final.dtypes"
   ]
  },
  {
   "cell_type": "markdown",
   "id": "979e8ed8",
   "metadata": {},
   "source": [
    "## Save the final dataset\n"
   ]
  },
  {
   "cell_type": "code",
   "execution_count": 17,
   "id": "ac00cb19",
   "metadata": {},
   "outputs": [
    {
     "name": "stdout",
     "output_type": "stream",
     "text": [
      "793\n"
     ]
    }
   ],
   "source": [
    "rows = df_final.shape[0]\n",
    "print(rows)\n",
    "df_final.to_csv('../dataset/df_final.csv', encoding='utf-8', sep=';')"
   ]
  },
  {
   "cell_type": "code",
   "execution_count": null,
   "id": "df6b6ea6",
   "metadata": {},
   "outputs": [],
   "source": []
  }
 ],
 "metadata": {
  "kernelspec": {
   "display_name": ".venv_car",
   "language": "python",
   "name": "python3"
  },
  "language_info": {
   "codemirror_mode": {
    "name": "ipython",
    "version": 3
   },
   "file_extension": ".py",
   "mimetype": "text/x-python",
   "name": "python",
   "nbconvert_exporter": "python",
   "pygments_lexer": "ipython3",
   "version": "3.12.1"
  }
 },
 "nbformat": 4,
 "nbformat_minor": 5
}
