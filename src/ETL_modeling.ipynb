{
 "cells": [
  {
   "cell_type": "markdown",
   "id": "1981758f-1503-4bb0-9e74-1d453eef207c",
   "metadata": {},
   "source": [
    "# Import"
   ]
  },
  {
   "cell_type": "code",
   "execution_count": 1,
   "id": "11cd53b7-6c82-41d2-9428-93f55331f6ac",
   "metadata": {},
   "outputs": [],
   "source": [
    "import re\n",
    "import pandas        as pd\n",
    "import numpy         as np\n",
    "\n",
    "from datetime        import datetime"
   ]
  },
  {
   "cell_type": "markdown",
   "id": "07a59e4a-337d-4d94-86c9-d132da51fbb1",
   "metadata": {},
   "source": [
    "# Load DataSet"
   ]
  },
  {
   "cell_type": "code",
   "execution_count": 2,
   "id": "e3ff90df-0dd5-48ad-af84-2bd22de7903b",
   "metadata": {},
   "outputs": [],
   "source": [
    "df = pd.read_csv('../dataset/df_final.csv', encoding='utf-8', sep=';')\n"
   ]
  },
  {
   "cell_type": "code",
   "execution_count": 3,
   "id": "adf108f9-b46c-4b55-8f15-8aa82fbc3b63",
   "metadata": {},
   "outputs": [
    {
     "data": {
      "text/html": [
       "<div>\n",
       "<style scoped>\n",
       "    .dataframe tbody tr th:only-of-type {\n",
       "        vertical-align: middle;\n",
       "    }\n",
       "\n",
       "    .dataframe tbody tr th {\n",
       "        vertical-align: top;\n",
       "    }\n",
       "\n",
       "    .dataframe thead th {\n",
       "        text-align: right;\n",
       "    }\n",
       "</style>\n",
       "<table border=\"1\" class=\"dataframe\">\n",
       "  <thead>\n",
       "    <tr style=\"text-align: right;\">\n",
       "      <th></th>\n",
       "      <th>Unnamed: 0</th>\n",
       "      <th>id_ads</th>\n",
       "      <th>manufacturer_by</th>\n",
       "      <th>model</th>\n",
       "      <th>version</th>\n",
       "      <th>km</th>\n",
       "      <th>year</th>\n",
       "      <th>price</th>\n",
       "      <th>seller</th>\n",
       "      <th>address</th>\n",
       "      <th>scrapy_datetime</th>\n",
       "      <th>zip_code</th>\n",
       "      <th>city</th>\n",
       "    </tr>\n",
       "  </thead>\n",
       "  <tbody>\n",
       "    <tr>\n",
       "      <th>0</th>\n",
       "      <td>0</td>\n",
       "      <td>8c9aef9c-1513-41ab-8db4-10686decdfb5</td>\n",
       "      <td>bmw</td>\n",
       "      <td>116</td>\n",
       "      <td>d 5p Msport auto</td>\n",
       "      <td>146000</td>\n",
       "      <td>2019</td>\n",
       "      <td>16500</td>\n",
       "      <td>Bryan Auto Srl</td>\n",
       "      <td>BRYAN AUTO • IT-13100 Vercelli</td>\n",
       "      <td>2024-11-22</td>\n",
       "      <td>13100</td>\n",
       "      <td>Vercelli</td>\n",
       "    </tr>\n",
       "    <tr>\n",
       "      <th>1</th>\n",
       "      <td>1</td>\n",
       "      <td>78b02ce1-2c8f-4caf-88fc-7d59b6e42cda</td>\n",
       "      <td>bmw</td>\n",
       "      <td>x1</td>\n",
       "      <td>xdrive18d Business auto my18</td>\n",
       "      <td>100000</td>\n",
       "      <td>2018</td>\n",
       "      <td>18999</td>\n",
       "      <td>Bryan Auto Srl</td>\n",
       "      <td>BRYAN AUTO • IT-13100 Vercelli</td>\n",
       "      <td>2024-11-22</td>\n",
       "      <td>13100</td>\n",
       "      <td>Vercelli</td>\n",
       "    </tr>\n",
       "    <tr>\n",
       "      <th>2</th>\n",
       "      <td>2</td>\n",
       "      <td>a564e061-226c-464f-bf1a-b178e7b929dc</td>\n",
       "      <td>bmw</td>\n",
       "      <td>116</td>\n",
       "      <td>116d 5p. Msport</td>\n",
       "      <td>53050</td>\n",
       "      <td>2019</td>\n",
       "      <td>19900</td>\n",
       "      <td>Bryan Auto Srl</td>\n",
       "      <td>BRYAN AUTO • IT-13100 Vercelli</td>\n",
       "      <td>2024-11-22</td>\n",
       "      <td>13100</td>\n",
       "      <td>Vercelli</td>\n",
       "    </tr>\n",
       "    <tr>\n",
       "      <th>3</th>\n",
       "      <td>3</td>\n",
       "      <td>6e6ae0b6-d199-4d2e-96ec-d525bfb48e1e</td>\n",
       "      <td>bmw</td>\n",
       "      <td>730</td>\n",
       "      <td>d xDrive Eccelsa</td>\n",
       "      <td>226135</td>\n",
       "      <td>2018</td>\n",
       "      <td>25900</td>\n",
       "      <td>Bryan Auto Srl</td>\n",
       "      <td>BRYAN AUTO • IT-13100 Vercelli</td>\n",
       "      <td>2024-11-22</td>\n",
       "      <td>13100</td>\n",
       "      <td>Vercelli</td>\n",
       "    </tr>\n",
       "    <tr>\n",
       "      <th>4</th>\n",
       "      <td>4</td>\n",
       "      <td>888c30ce-7225-4e02-a41e-f30970df33c1</td>\n",
       "      <td>bmw</td>\n",
       "      <td>x1</td>\n",
       "      <td>xdrive25e Msport auto</td>\n",
       "      <td>119500</td>\n",
       "      <td>2020</td>\n",
       "      <td>21500</td>\n",
       "      <td>Bryan Auto Srl</td>\n",
       "      <td>BRYAN AUTO • IT-13100 Vercelli</td>\n",
       "      <td>2024-11-22</td>\n",
       "      <td>13100</td>\n",
       "      <td>Vercelli</td>\n",
       "    </tr>\n",
       "  </tbody>\n",
       "</table>\n",
       "</div>"
      ],
      "text/plain": [
       "   Unnamed: 0                                id_ads manufacturer_by model  \\\n",
       "0           0  8c9aef9c-1513-41ab-8db4-10686decdfb5             bmw   116   \n",
       "1           1  78b02ce1-2c8f-4caf-88fc-7d59b6e42cda             bmw    x1   \n",
       "2           2  a564e061-226c-464f-bf1a-b178e7b929dc             bmw   116   \n",
       "3           3  6e6ae0b6-d199-4d2e-96ec-d525bfb48e1e             bmw   730   \n",
       "4           4  888c30ce-7225-4e02-a41e-f30970df33c1             bmw    x1   \n",
       "\n",
       "                        version      km  year  price          seller  \\\n",
       "0              d 5p Msport auto  146000  2019  16500  Bryan Auto Srl   \n",
       "1  xdrive18d Business auto my18  100000  2018  18999  Bryan Auto Srl   \n",
       "2               116d 5p. Msport   53050  2019  19900  Bryan Auto Srl   \n",
       "3              d xDrive Eccelsa  226135  2018  25900  Bryan Auto Srl   \n",
       "4         xdrive25e Msport auto  119500  2020  21500  Bryan Auto Srl   \n",
       "\n",
       "                          address scrapy_datetime  zip_code      city  \n",
       "0  BRYAN AUTO • IT-13100 Vercelli      2024-11-22     13100  Vercelli  \n",
       "1  BRYAN AUTO • IT-13100 Vercelli      2024-11-22     13100  Vercelli  \n",
       "2  BRYAN AUTO • IT-13100 Vercelli      2024-11-22     13100  Vercelli  \n",
       "3  BRYAN AUTO • IT-13100 Vercelli      2024-11-22     13100  Vercelli  \n",
       "4  BRYAN AUTO • IT-13100 Vercelli      2024-11-22     13100  Vercelli  "
      ]
     },
     "execution_count": 3,
     "metadata": {},
     "output_type": "execute_result"
    }
   ],
   "source": [
    "df.head()"
   ]
  },
  {
   "cell_type": "markdown",
   "id": "23fd7752",
   "metadata": {},
   "source": [
    "## 01 - Clean columns"
   ]
  },
  {
   "cell_type": "code",
   "execution_count": 4,
   "id": "2589ad2b-f556-4ecd-9117-e0205d146654",
   "metadata": {},
   "outputs": [],
   "source": [
    "df_01 = df.copy()"
   ]
  },
  {
   "cell_type": "code",
   "execution_count": 5,
   "id": "eb93e032",
   "metadata": {},
   "outputs": [],
   "source": [
    "df_01 = df_01.drop('Unnamed: 0', axis=1)\n",
    "#df = df.drop('coluna_indesejada', axis=1)\n"
   ]
  },
  {
   "cell_type": "code",
   "execution_count": 6,
   "id": "71fd466f",
   "metadata": {},
   "outputs": [
    {
     "data": {
      "text/html": [
       "<div>\n",
       "<style scoped>\n",
       "    .dataframe tbody tr th:only-of-type {\n",
       "        vertical-align: middle;\n",
       "    }\n",
       "\n",
       "    .dataframe tbody tr th {\n",
       "        vertical-align: top;\n",
       "    }\n",
       "\n",
       "    .dataframe thead th {\n",
       "        text-align: right;\n",
       "    }\n",
       "</style>\n",
       "<table border=\"1\" class=\"dataframe\">\n",
       "  <thead>\n",
       "    <tr style=\"text-align: right;\">\n",
       "      <th></th>\n",
       "      <th>id_ads</th>\n",
       "      <th>manufacturer_by</th>\n",
       "      <th>model</th>\n",
       "      <th>version</th>\n",
       "      <th>km</th>\n",
       "      <th>year</th>\n",
       "      <th>price</th>\n",
       "      <th>seller</th>\n",
       "      <th>address</th>\n",
       "      <th>scrapy_datetime</th>\n",
       "      <th>zip_code</th>\n",
       "      <th>city</th>\n",
       "    </tr>\n",
       "  </thead>\n",
       "  <tbody>\n",
       "    <tr>\n",
       "      <th>0</th>\n",
       "      <td>8c9aef9c-1513-41ab-8db4-10686decdfb5</td>\n",
       "      <td>bmw</td>\n",
       "      <td>116</td>\n",
       "      <td>d 5p Msport auto</td>\n",
       "      <td>146000</td>\n",
       "      <td>2019</td>\n",
       "      <td>16500</td>\n",
       "      <td>Bryan Auto Srl</td>\n",
       "      <td>BRYAN AUTO • IT-13100 Vercelli</td>\n",
       "      <td>2024-11-22</td>\n",
       "      <td>13100</td>\n",
       "      <td>Vercelli</td>\n",
       "    </tr>\n",
       "  </tbody>\n",
       "</table>\n",
       "</div>"
      ],
      "text/plain": [
       "                                 id_ads manufacturer_by model  \\\n",
       "0  8c9aef9c-1513-41ab-8db4-10686decdfb5             bmw   116   \n",
       "\n",
       "            version      km  year  price          seller  \\\n",
       "0  d 5p Msport auto  146000  2019  16500  Bryan Auto Srl   \n",
       "\n",
       "                          address scrapy_datetime  zip_code      city  \n",
       "0  BRYAN AUTO • IT-13100 Vercelli      2024-11-22     13100  Vercelli  "
      ]
     },
     "execution_count": 6,
     "metadata": {},
     "output_type": "execute_result"
    }
   ],
   "source": [
    "df_01.head(1)"
   ]
  },
  {
   "cell_type": "markdown",
   "id": "e98b25ff",
   "metadata": {},
   "source": [
    "## Creating Non-Sale History Column"
   ]
  },
  {
   "cell_type": "code",
   "execution_count": 7,
   "id": "e0eceb78",
   "metadata": {},
   "outputs": [],
   "source": [
    "df_02 = df_01.copy()"
   ]
  },
  {
   "cell_type": "code",
   "execution_count": 8,
   "id": "323e70d2",
   "metadata": {},
   "outputs": [],
   "source": [
    "# Contar valores únicos e mapear\n",
    "count_id_ads = df_02['id_ads'].value_counts()\n",
    "df_02['count_id'] = df_02['id_ads'].map(count_id_ads)"
   ]
  },
  {
   "cell_type": "code",
   "execution_count": 9,
   "id": "e771c27d",
   "metadata": {},
   "outputs": [
    {
     "data": {
      "text/plain": [
       "(398, 13)"
      ]
     },
     "execution_count": 9,
     "metadata": {},
     "output_type": "execute_result"
    }
   ],
   "source": [
    "df_02.shape"
   ]
  },
  {
   "cell_type": "code",
   "execution_count": 10,
   "id": "e48e3a96",
   "metadata": {},
   "outputs": [
    {
     "name": "stdout",
     "output_type": "stream",
     "text": [
      "380\n"
     ]
    }
   ],
   "source": [
    "qntd = len(df_02['id_ads'].unique())\n",
    "print(qntd)"
   ]
  },
  {
   "cell_type": "markdown",
   "id": "b367edd1",
   "metadata": {},
   "source": [
    "## 03 - Creating Today's Date Column"
   ]
  },
  {
   "cell_type": "code",
   "execution_count": 11,
   "id": "5edc433d",
   "metadata": {},
   "outputs": [],
   "source": [
    "df_03 = df_02.copy()"
   ]
  },
  {
   "cell_type": "code",
   "execution_count": 12,
   "id": "45b1b028",
   "metadata": {},
   "outputs": [],
   "source": [
    "df_03['today'] = pd.to_datetime(datetime.now().strftime('%Y/%m/%d'))\n",
    "\n"
   ]
  },
  {
   "cell_type": "code",
   "execution_count": 13,
   "metadata": {},
   "outputs": [],
   "source": [
    "# COnvertendo os tipos das colunas\n",
    "df_03['scrapy_datetime'] = pd.to_datetime(df_03['scrapy_datetime']).dt.date\n",
    "df_03['scrapy_datetime'] = pd.to_datetime(df_03['scrapy_datetime'])\n",
    "# Use pd.to_datetime() para converter a coluna \"DataHora\" em objetos datetime\n",
    "#df['DataHora'] = pd.to_datetime(df['DataHora']).dt.date\n",
    "#\n",
    "#df_03['scrapy_datetime'] = \n",
    "## Use dt.date para extrair apenas a data\n",
    "#df['Data'] = df['DataHora'].dt.date\n"
   ]
  },
  {
   "cell_type": "code",
   "execution_count": 14,
   "id": "6723dd6b",
   "metadata": {},
   "outputs": [
    {
     "data": {
      "text/plain": [
       "id_ads                     object\n",
       "manufacturer_by            object\n",
       "model                      object\n",
       "version                    object\n",
       "km                          int64\n",
       "year                        int64\n",
       "price                       int64\n",
       "seller                     object\n",
       "address                    object\n",
       "scrapy_datetime    datetime64[ns]\n",
       "zip_code                    int64\n",
       "city                       object\n",
       "count_id                    int64\n",
       "today              datetime64[ns]\n",
       "dtype: object"
      ]
     },
     "execution_count": 14,
     "metadata": {},
     "output_type": "execute_result"
    }
   ],
   "source": [
    "df_03.dtypes\n"
   ]
  },
  {
   "cell_type": "code",
   "execution_count": 15,
   "id": "075f12f8",
   "metadata": {},
   "outputs": [
    {
     "data": {
      "text/html": [
       "<div>\n",
       "<style scoped>\n",
       "    .dataframe tbody tr th:only-of-type {\n",
       "        vertical-align: middle;\n",
       "    }\n",
       "\n",
       "    .dataframe tbody tr th {\n",
       "        vertical-align: top;\n",
       "    }\n",
       "\n",
       "    .dataframe thead th {\n",
       "        text-align: right;\n",
       "    }\n",
       "</style>\n",
       "<table border=\"1\" class=\"dataframe\">\n",
       "  <thead>\n",
       "    <tr style=\"text-align: right;\">\n",
       "      <th></th>\n",
       "      <th>id_ads</th>\n",
       "      <th>manufacturer_by</th>\n",
       "      <th>model</th>\n",
       "      <th>version</th>\n",
       "      <th>km</th>\n",
       "      <th>year</th>\n",
       "      <th>price</th>\n",
       "      <th>seller</th>\n",
       "      <th>address</th>\n",
       "      <th>scrapy_datetime</th>\n",
       "      <th>zip_code</th>\n",
       "      <th>city</th>\n",
       "      <th>count_id</th>\n",
       "      <th>today</th>\n",
       "    </tr>\n",
       "  </thead>\n",
       "  <tbody>\n",
       "    <tr>\n",
       "      <th>0</th>\n",
       "      <td>8c9aef9c-1513-41ab-8db4-10686decdfb5</td>\n",
       "      <td>bmw</td>\n",
       "      <td>116</td>\n",
       "      <td>d 5p Msport auto</td>\n",
       "      <td>146000</td>\n",
       "      <td>2019</td>\n",
       "      <td>16500</td>\n",
       "      <td>Bryan Auto Srl</td>\n",
       "      <td>BRYAN AUTO • IT-13100 Vercelli</td>\n",
       "      <td>2024-11-22</td>\n",
       "      <td>13100</td>\n",
       "      <td>Vercelli</td>\n",
       "      <td>1</td>\n",
       "      <td>2024-11-22</td>\n",
       "    </tr>\n",
       "  </tbody>\n",
       "</table>\n",
       "</div>"
      ],
      "text/plain": [
       "                                 id_ads manufacturer_by model  \\\n",
       "0  8c9aef9c-1513-41ab-8db4-10686decdfb5             bmw   116   \n",
       "\n",
       "            version      km  year  price          seller  \\\n",
       "0  d 5p Msport auto  146000  2019  16500  Bryan Auto Srl   \n",
       "\n",
       "                          address scrapy_datetime  zip_code      city  \\\n",
       "0  BRYAN AUTO • IT-13100 Vercelli      2024-11-22     13100  Vercelli   \n",
       "\n",
       "   count_id      today  \n",
       "0         1 2024-11-22  "
      ]
     },
     "execution_count": 15,
     "metadata": {},
     "output_type": "execute_result"
    }
   ],
   "source": [
    "df_03.head(1)"
   ]
  },
  {
   "cell_type": "markdown",
   "id": "746de568",
   "metadata": {},
   "source": [
    "### Adding the number of days the vehicle has been on sale"
   ]
  },
  {
   "cell_type": "code",
   "execution_count": 16,
   "id": "267f5bc5",
   "metadata": {},
   "outputs": [
    {
     "name": "stderr",
     "output_type": "stream",
     "text": [
      "C:\\Users\\bruno\\AppData\\Local\\Temp\\ipykernel_7900\\1912781929.py:8: SettingWithCopyWarning: \n",
      "A value is trying to be set on a copy of a slice from a DataFrame.\n",
      "Try using .loc[row_indexer,col_indexer] = value instead\n",
      "\n",
      "See the caveats in the documentation: https://pandas.pydata.org/pandas-docs/stable/user_guide/indexing.html#returning-a-view-versus-a-copy\n",
      "  df_4['Dias_Passados'] = abs(df_4['scrapy_datetime'] - df_4['today'])\n"
     ]
    }
   ],
   "source": [
    "# Selecione apenas as linhas onde Coluna1 >= 2 e Coluna2 ocorre mais de uma vez\n",
    "condicao = (df_03['count_id'] >= 2) & df_03['id_ads'].duplicated(keep=False)\n",
    "\n",
    "# Filtrar as linhas que atendem à condição\n",
    "df_4 = df_03[condicao]\n",
    "\n",
    "# Calcular a diferença em dias\n",
    "df_4['Dias_Passados'] = abs(df_4['scrapy_datetime'] - df_4['today'])\n",
    "\n"
   ]
  },
  {
   "cell_type": "code",
   "execution_count": 17,
   "id": "2b150939",
   "metadata": {},
   "outputs": [
    {
     "data": {
      "text/html": [
       "<div>\n",
       "<style scoped>\n",
       "    .dataframe tbody tr th:only-of-type {\n",
       "        vertical-align: middle;\n",
       "    }\n",
       "\n",
       "    .dataframe tbody tr th {\n",
       "        vertical-align: top;\n",
       "    }\n",
       "\n",
       "    .dataframe thead th {\n",
       "        text-align: right;\n",
       "    }\n",
       "</style>\n",
       "<table border=\"1\" class=\"dataframe\">\n",
       "  <thead>\n",
       "    <tr style=\"text-align: right;\">\n",
       "      <th></th>\n",
       "      <th>id_ads</th>\n",
       "      <th>manufacturer_by</th>\n",
       "      <th>model</th>\n",
       "      <th>version</th>\n",
       "      <th>km</th>\n",
       "      <th>year</th>\n",
       "      <th>price</th>\n",
       "      <th>seller</th>\n",
       "      <th>address</th>\n",
       "      <th>scrapy_datetime</th>\n",
       "      <th>zip_code</th>\n",
       "      <th>city</th>\n",
       "      <th>count_id</th>\n",
       "      <th>today</th>\n",
       "      <th>Dias_Passados</th>\n",
       "    </tr>\n",
       "  </thead>\n",
       "  <tbody>\n",
       "    <tr>\n",
       "      <th>2</th>\n",
       "      <td>a564e061-226c-464f-bf1a-b178e7b929dc</td>\n",
       "      <td>bmw</td>\n",
       "      <td>116</td>\n",
       "      <td>116d 5p. Msport</td>\n",
       "      <td>53050</td>\n",
       "      <td>2019</td>\n",
       "      <td>19900</td>\n",
       "      <td>Bryan Auto Srl</td>\n",
       "      <td>BRYAN AUTO • IT-13100 Vercelli</td>\n",
       "      <td>2024-11-22</td>\n",
       "      <td>13100</td>\n",
       "      <td>Vercelli</td>\n",
       "      <td>2</td>\n",
       "      <td>2024-11-22</td>\n",
       "      <td>0 days</td>\n",
       "    </tr>\n",
       "    <tr>\n",
       "      <th>3</th>\n",
       "      <td>6e6ae0b6-d199-4d2e-96ec-d525bfb48e1e</td>\n",
       "      <td>bmw</td>\n",
       "      <td>730</td>\n",
       "      <td>d xDrive Eccelsa</td>\n",
       "      <td>226135</td>\n",
       "      <td>2018</td>\n",
       "      <td>25900</td>\n",
       "      <td>Bryan Auto Srl</td>\n",
       "      <td>BRYAN AUTO • IT-13100 Vercelli</td>\n",
       "      <td>2024-11-22</td>\n",
       "      <td>13100</td>\n",
       "      <td>Vercelli</td>\n",
       "      <td>2</td>\n",
       "      <td>2024-11-22</td>\n",
       "      <td>0 days</td>\n",
       "    </tr>\n",
       "    <tr>\n",
       "      <th>4</th>\n",
       "      <td>888c30ce-7225-4e02-a41e-f30970df33c1</td>\n",
       "      <td>bmw</td>\n",
       "      <td>x1</td>\n",
       "      <td>xdrive25e Msport auto</td>\n",
       "      <td>119500</td>\n",
       "      <td>2020</td>\n",
       "      <td>21500</td>\n",
       "      <td>Bryan Auto Srl</td>\n",
       "      <td>BRYAN AUTO • IT-13100 Vercelli</td>\n",
       "      <td>2024-11-22</td>\n",
       "      <td>13100</td>\n",
       "      <td>Vercelli</td>\n",
       "      <td>2</td>\n",
       "      <td>2024-11-22</td>\n",
       "      <td>0 days</td>\n",
       "    </tr>\n",
       "    <tr>\n",
       "      <th>5</th>\n",
       "      <td>ba7cd9b3-4e1f-4373-8975-5120395e92d8</td>\n",
       "      <td>bmw</td>\n",
       "      <td>318</td>\n",
       "      <td>F30 2015 Berlina Diese 318d Luxury auto</td>\n",
       "      <td>26260</td>\n",
       "      <td>2018</td>\n",
       "      <td>20900</td>\n",
       "      <td>Bryan Auto Srl</td>\n",
       "      <td>BRYAN AUTO • IT-13100 Vercelli</td>\n",
       "      <td>2024-11-22</td>\n",
       "      <td>13100</td>\n",
       "      <td>Vercelli</td>\n",
       "      <td>2</td>\n",
       "      <td>2024-11-22</td>\n",
       "      <td>0 days</td>\n",
       "    </tr>\n",
       "    <tr>\n",
       "      <th>6</th>\n",
       "      <td>250bff01-d3f5-4e26-b9cb-743bede208ee</td>\n",
       "      <td>bmw</td>\n",
       "      <td>325</td>\n",
       "      <td>d xDrive Touring Msport</td>\n",
       "      <td>217024</td>\n",
       "      <td>2018</td>\n",
       "      <td>11890</td>\n",
       "      <td>Bryan Auto Srl</td>\n",
       "      <td>BRYAN AUTO • IT-13100 Vercelli</td>\n",
       "      <td>2024-11-22</td>\n",
       "      <td>13100</td>\n",
       "      <td>Vercelli</td>\n",
       "      <td>2</td>\n",
       "      <td>2024-11-22</td>\n",
       "      <td>0 days</td>\n",
       "    </tr>\n",
       "  </tbody>\n",
       "</table>\n",
       "</div>"
      ],
      "text/plain": [
       "                                 id_ads manufacturer_by model  \\\n",
       "2  a564e061-226c-464f-bf1a-b178e7b929dc             bmw   116   \n",
       "3  6e6ae0b6-d199-4d2e-96ec-d525bfb48e1e             bmw   730   \n",
       "4  888c30ce-7225-4e02-a41e-f30970df33c1             bmw    x1   \n",
       "5  ba7cd9b3-4e1f-4373-8975-5120395e92d8             bmw   318   \n",
       "6  250bff01-d3f5-4e26-b9cb-743bede208ee             bmw   325   \n",
       "\n",
       "                                   version      km  year  price  \\\n",
       "2                          116d 5p. Msport   53050  2019  19900   \n",
       "3                         d xDrive Eccelsa  226135  2018  25900   \n",
       "4                    xdrive25e Msport auto  119500  2020  21500   \n",
       "5  F30 2015 Berlina Diese 318d Luxury auto   26260  2018  20900   \n",
       "6                  d xDrive Touring Msport  217024  2018  11890   \n",
       "\n",
       "           seller                         address scrapy_datetime  zip_code  \\\n",
       "2  Bryan Auto Srl  BRYAN AUTO • IT-13100 Vercelli      2024-11-22     13100   \n",
       "3  Bryan Auto Srl  BRYAN AUTO • IT-13100 Vercelli      2024-11-22     13100   \n",
       "4  Bryan Auto Srl  BRYAN AUTO • IT-13100 Vercelli      2024-11-22     13100   \n",
       "5  Bryan Auto Srl  BRYAN AUTO • IT-13100 Vercelli      2024-11-22     13100   \n",
       "6  Bryan Auto Srl  BRYAN AUTO • IT-13100 Vercelli      2024-11-22     13100   \n",
       "\n",
       "       city  count_id      today Dias_Passados  \n",
       "2  Vercelli         2 2024-11-22        0 days  \n",
       "3  Vercelli         2 2024-11-22        0 days  \n",
       "4  Vercelli         2 2024-11-22        0 days  \n",
       "5  Vercelli         2 2024-11-22        0 days  \n",
       "6  Vercelli         2 2024-11-22        0 days  "
      ]
     },
     "execution_count": 17,
     "metadata": {},
     "output_type": "execute_result"
    }
   ],
   "source": [
    "df_4.head()"
   ]
  },
  {
   "cell_type": "markdown",
   "id": "acc67b72",
   "metadata": {},
   "source": [
    "## DataFrame Final"
   ]
  },
  {
   "cell_type": "code",
   "execution_count": 18,
   "id": "c8850055",
   "metadata": {},
   "outputs": [],
   "source": [
    "df_final = pd.DataFrame(df_4)"
   ]
  },
  {
   "cell_type": "code",
   "execution_count": 19,
   "id": "cf3eca3b",
   "metadata": {},
   "outputs": [
    {
     "data": {
      "text/html": [
       "<div>\n",
       "<style scoped>\n",
       "    .dataframe tbody tr th:only-of-type {\n",
       "        vertical-align: middle;\n",
       "    }\n",
       "\n",
       "    .dataframe tbody tr th {\n",
       "        vertical-align: top;\n",
       "    }\n",
       "\n",
       "    .dataframe thead th {\n",
       "        text-align: right;\n",
       "    }\n",
       "</style>\n",
       "<table border=\"1\" class=\"dataframe\">\n",
       "  <thead>\n",
       "    <tr style=\"text-align: right;\">\n",
       "      <th></th>\n",
       "      <th>id_ads</th>\n",
       "      <th>manufacturer_by</th>\n",
       "      <th>model</th>\n",
       "      <th>version</th>\n",
       "      <th>km</th>\n",
       "      <th>year</th>\n",
       "      <th>price</th>\n",
       "      <th>seller</th>\n",
       "      <th>address</th>\n",
       "      <th>scrapy_datetime</th>\n",
       "      <th>zip_code</th>\n",
       "      <th>city</th>\n",
       "      <th>count_id</th>\n",
       "      <th>today</th>\n",
       "      <th>Dias_Passados</th>\n",
       "    </tr>\n",
       "  </thead>\n",
       "  <tbody>\n",
       "    <tr>\n",
       "      <th>2</th>\n",
       "      <td>a564e061-226c-464f-bf1a-b178e7b929dc</td>\n",
       "      <td>bmw</td>\n",
       "      <td>116</td>\n",
       "      <td>116d 5p. Msport</td>\n",
       "      <td>53050</td>\n",
       "      <td>2019</td>\n",
       "      <td>19900</td>\n",
       "      <td>Bryan Auto Srl</td>\n",
       "      <td>BRYAN AUTO • IT-13100 Vercelli</td>\n",
       "      <td>2024-11-22</td>\n",
       "      <td>13100</td>\n",
       "      <td>Vercelli</td>\n",
       "      <td>2</td>\n",
       "      <td>2024-11-22</td>\n",
       "      <td>0 days</td>\n",
       "    </tr>\n",
       "    <tr>\n",
       "      <th>3</th>\n",
       "      <td>6e6ae0b6-d199-4d2e-96ec-d525bfb48e1e</td>\n",
       "      <td>bmw</td>\n",
       "      <td>730</td>\n",
       "      <td>d xDrive Eccelsa</td>\n",
       "      <td>226135</td>\n",
       "      <td>2018</td>\n",
       "      <td>25900</td>\n",
       "      <td>Bryan Auto Srl</td>\n",
       "      <td>BRYAN AUTO • IT-13100 Vercelli</td>\n",
       "      <td>2024-11-22</td>\n",
       "      <td>13100</td>\n",
       "      <td>Vercelli</td>\n",
       "      <td>2</td>\n",
       "      <td>2024-11-22</td>\n",
       "      <td>0 days</td>\n",
       "    </tr>\n",
       "    <tr>\n",
       "      <th>4</th>\n",
       "      <td>888c30ce-7225-4e02-a41e-f30970df33c1</td>\n",
       "      <td>bmw</td>\n",
       "      <td>x1</td>\n",
       "      <td>xdrive25e Msport auto</td>\n",
       "      <td>119500</td>\n",
       "      <td>2020</td>\n",
       "      <td>21500</td>\n",
       "      <td>Bryan Auto Srl</td>\n",
       "      <td>BRYAN AUTO • IT-13100 Vercelli</td>\n",
       "      <td>2024-11-22</td>\n",
       "      <td>13100</td>\n",
       "      <td>Vercelli</td>\n",
       "      <td>2</td>\n",
       "      <td>2024-11-22</td>\n",
       "      <td>0 days</td>\n",
       "    </tr>\n",
       "    <tr>\n",
       "      <th>5</th>\n",
       "      <td>ba7cd9b3-4e1f-4373-8975-5120395e92d8</td>\n",
       "      <td>bmw</td>\n",
       "      <td>318</td>\n",
       "      <td>F30 2015 Berlina Diese 318d Luxury auto</td>\n",
       "      <td>26260</td>\n",
       "      <td>2018</td>\n",
       "      <td>20900</td>\n",
       "      <td>Bryan Auto Srl</td>\n",
       "      <td>BRYAN AUTO • IT-13100 Vercelli</td>\n",
       "      <td>2024-11-22</td>\n",
       "      <td>13100</td>\n",
       "      <td>Vercelli</td>\n",
       "      <td>2</td>\n",
       "      <td>2024-11-22</td>\n",
       "      <td>0 days</td>\n",
       "    </tr>\n",
       "    <tr>\n",
       "      <th>6</th>\n",
       "      <td>250bff01-d3f5-4e26-b9cb-743bede208ee</td>\n",
       "      <td>bmw</td>\n",
       "      <td>325</td>\n",
       "      <td>d xDrive Touring Msport</td>\n",
       "      <td>217024</td>\n",
       "      <td>2018</td>\n",
       "      <td>11890</td>\n",
       "      <td>Bryan Auto Srl</td>\n",
       "      <td>BRYAN AUTO • IT-13100 Vercelli</td>\n",
       "      <td>2024-11-22</td>\n",
       "      <td>13100</td>\n",
       "      <td>Vercelli</td>\n",
       "      <td>2</td>\n",
       "      <td>2024-11-22</td>\n",
       "      <td>0 days</td>\n",
       "    </tr>\n",
       "  </tbody>\n",
       "</table>\n",
       "</div>"
      ],
      "text/plain": [
       "                                 id_ads manufacturer_by model  \\\n",
       "2  a564e061-226c-464f-bf1a-b178e7b929dc             bmw   116   \n",
       "3  6e6ae0b6-d199-4d2e-96ec-d525bfb48e1e             bmw   730   \n",
       "4  888c30ce-7225-4e02-a41e-f30970df33c1             bmw    x1   \n",
       "5  ba7cd9b3-4e1f-4373-8975-5120395e92d8             bmw   318   \n",
       "6  250bff01-d3f5-4e26-b9cb-743bede208ee             bmw   325   \n",
       "\n",
       "                                   version      km  year  price  \\\n",
       "2                          116d 5p. Msport   53050  2019  19900   \n",
       "3                         d xDrive Eccelsa  226135  2018  25900   \n",
       "4                    xdrive25e Msport auto  119500  2020  21500   \n",
       "5  F30 2015 Berlina Diese 318d Luxury auto   26260  2018  20900   \n",
       "6                  d xDrive Touring Msport  217024  2018  11890   \n",
       "\n",
       "           seller                         address scrapy_datetime  zip_code  \\\n",
       "2  Bryan Auto Srl  BRYAN AUTO • IT-13100 Vercelli      2024-11-22     13100   \n",
       "3  Bryan Auto Srl  BRYAN AUTO • IT-13100 Vercelli      2024-11-22     13100   \n",
       "4  Bryan Auto Srl  BRYAN AUTO • IT-13100 Vercelli      2024-11-22     13100   \n",
       "5  Bryan Auto Srl  BRYAN AUTO • IT-13100 Vercelli      2024-11-22     13100   \n",
       "6  Bryan Auto Srl  BRYAN AUTO • IT-13100 Vercelli      2024-11-22     13100   \n",
       "\n",
       "       city  count_id      today Dias_Passados  \n",
       "2  Vercelli         2 2024-11-22        0 days  \n",
       "3  Vercelli         2 2024-11-22        0 days  \n",
       "4  Vercelli         2 2024-11-22        0 days  \n",
       "5  Vercelli         2 2024-11-22        0 days  \n",
       "6  Vercelli         2 2024-11-22        0 days  "
      ]
     },
     "execution_count": 19,
     "metadata": {},
     "output_type": "execute_result"
    }
   ],
   "source": [
    "df_final.head()"
   ]
  },
  {
   "cell_type": "markdown",
   "id": "979e8ed8",
   "metadata": {},
   "source": [
    "## Save the final dataset\n"
   ]
  },
  {
   "cell_type": "code",
   "execution_count": 21,
   "id": "ac00cb19",
   "metadata": {},
   "outputs": [],
   "source": [
    "#rows = df_final.shape[0]\n",
    "\n",
    "df_final.to_csv('../dataset/df_final_model.csv', encoding='utf-8', sep=';')"
   ]
  },
  {
   "cell_type": "code",
   "execution_count": 22,
   "id": "3d47b471",
   "metadata": {},
   "outputs": [
    {
     "data": {
      "text/plain": [
       "(36, 15)"
      ]
     },
     "execution_count": 22,
     "metadata": {},
     "output_type": "execute_result"
    }
   ],
   "source": [
    "df_final.shape"
   ]
  }
 ],
 "metadata": {
  "kernelspec": {
   "display_name": ".venv_car",
   "language": "python",
   "name": "python3"
  },
  "language_info": {
   "codemirror_mode": {
    "name": "ipython",
    "version": 3
   },
   "file_extension": ".py",
   "mimetype": "text/x-python",
   "name": "python",
   "nbconvert_exporter": "python",
   "pygments_lexer": "ipython3",
   "version": "3.12.1"
  }
 },
 "nbformat": 4,
 "nbformat_minor": 5
}
